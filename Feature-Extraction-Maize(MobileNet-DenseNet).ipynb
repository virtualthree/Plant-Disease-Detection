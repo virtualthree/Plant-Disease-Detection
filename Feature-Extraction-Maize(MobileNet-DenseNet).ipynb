{
  "cells": [
    {
      "cell_type": "markdown",
      "metadata": {
        "id": "view-in-github",
        "colab_type": "text"
      },
      "source": [
        "<a href=\"https://colab.research.google.com/github/virtualthree/Plant-Disease-Detection/blob/main/Feature-Extraction-Maize(MobileNet-DenseNet).ipynb\" target=\"_parent\"><img src=\"https://colab.research.google.com/assets/colab-badge.svg\" alt=\"Open In Colab\"/></a>"
      ]
    },
    {
      "cell_type": "code",
      "execution_count": null,
      "metadata": {
        "colab": {
          "base_uri": "https://localhost:8080/"
        },
        "id": "TbFijP1rFCnj",
        "outputId": "1619752f-1466-4021-8fe8-867a533e6a0f"
      },
      "outputs": [
        {
          "output_type": "stream",
          "name": "stdout",
          "text": [
            "Drive already mounted at /content/drive; to attempt to forcibly remount, call drive.mount(\"/content/drive\", force_remount=True).\n"
          ]
        }
      ],
      "source": [
        "from google.colab import drive\n",
        "drive.mount('/content/drive')"
      ]
    },
    {
      "cell_type": "code",
      "execution_count": null,
      "metadata": {
        "id": "YdPkeAL2aJx3"
      },
      "outputs": [],
      "source": [
        "from collections import Counter\n",
        "import cv2\n",
        "import time\n",
        "import glob\n",
        "import skimage\n",
        "import numpy as np\n",
        "import pandas as pd\n",
        "import seaborn as sn\n",
        "from tqdm import tqdm\n",
        "from os import listdir\n",
        "import matplotlib.pyplot as plt\n",
        "from skimage.transform import resize\n",
        "from collections import Counter\n",
        "import warnings\n",
        "warnings.filterwarnings(\"ignore\")\n",
        "\n",
        "# !pip install FS\n",
        "from sklearn.neighbors import KNeighborsClassifier\n",
        "from drive.MyDrive.FS.woa import jfs   # change this to switch algorithm \n",
        "\n",
        "sn.set()\n",
        "\n",
        "from sklearn.pipeline import make_pipeline\n",
        "from sklearn.pipeline import Pipeline\n",
        "from sklearn.feature_selection import SelectFromModel\n",
        "from time import time\n",
        "\n",
        "from sklearn import metrics\n",
        "from sklearn.utils import shuffle\n",
        "from sklearn import metrics\n",
        "from sklearn.metrics import confusion_matrix, classification_report, accuracy_score,f1_score,recall_score,cohen_kappa_score,precision_score\n",
        "from sklearn.utils import compute_class_weight\n",
        "from sklearn.preprocessing import MinMaxScaler,LabelBinarizer, LabelEncoder\n",
        "from sklearn.neighbors import KNeighborsClassifier # KNeighborsClassifier\n",
        "from sklearn.svm import SVC # SVM\n",
        "from sklearn.ensemble import RandomForestClassifier # RandomForestClassifier\n",
        "from sklearn.ensemble import AdaBoostClassifier # AdaBoostClassifier\n",
        "from xgboost import XGBClassifier # XGBClassifier\n",
        "from sklearn.model_selection import train_test_split\n",
        "from sklearn.decomposition import PCA\n",
        "\n",
        "import tensorflow \n",
        "from tensorflow.keras.utils import to_categorical\n",
        "from tensorflow.keras.metrics import AUC\n",
        "from tensorflow.keras.preprocessing import image\n",
        "from tensorflow.keras.models import Model, Sequential\n",
        "from tensorflow.keras.applications.vgg16 import VGG16 # VGG16\n",
        "from tensorflow.keras.applications.vgg19 import VGG19 # VGG19\n",
        "from tensorflow.keras.applications.resnet50 import ResNet50 # ResNet50\n",
        "#from tensorflow.keras.applications.resnet9 import ResNet9 # ResNet50\n",
        "from tensorflow.keras.applications import ResNet101,InceptionResNetV2 # ResNet 101\n",
        "from tensorflow.keras.applications.xception import Xception # Xception\n",
        "from tensorflow.keras.applications.mobilenet import MobileNet # MobileNet\n",
        "from tensorflow.keras.applications.densenet import DenseNet169 # DenseNet169\n",
        "from tensorflow.keras.applications.densenet import DenseNet121 # DenseNet121\n",
        "from tensorflow.keras.applications.mobilenet_v2 import MobileNetV2 # MobileNetV2\n",
        "from tensorflow.keras.applications.inception_v3 import InceptionV3 # InceptionV3\n",
        "from tensorflow.keras.layers import Input, Dense, Dropout, BatchNormalization, Flatten, Activation, GlobalAveragePooling2D,Conv2D, MaxPooling2D\n",
        "from tensorflow.keras.callbacks import EarlyStopping, ModelCheckpoint"
      ]
    },
    {
      "cell_type": "code",
      "execution_count": null,
      "metadata": {
        "id": "Bu2JYHabaWre"
      },
      "outputs": [],
      "source": [
        "def loadImages(path):\n",
        "    \n",
        "    sample = []\n",
        "    \n",
        "    for filename in glob.glob(path):\n",
        "        \n",
        "        img = cv2.imread(filename)\n",
        "        img = skimage.transform.resize(img, (224, 224, 3))\n",
        "        IMG = np.array(img)\n",
        "        sample.append(IMG)\n",
        "        \n",
        "    return sample"
      ]
    },
    {
      "cell_type": "code",
      "execution_count": null,
      "metadata": {
        "id": "bRWkrFHQaeM6"
      },
      "outputs": [],
      "source": [
        "train_path1 = 'drive/My Drive/Maize Dataset/train/Blight/*.jpg' \n",
        "train_path2 = 'drive/My Drive/Maize Dataset/train/Common_Rust/*.jpg'\n",
        "train_path3 = 'drive/My Drive/Maize Dataset/train/Gray_Leaf_Spot/*.jpg'\n",
        "train_path4 = 'drive/My Drive/Maize Dataset/train/Healthy/*.jpg'\n",
        "train_BL = loadImages(train_path1)         \n",
        "train_CR = loadImages(train_path2)                  \n",
        "train_GLS = loadImages(train_path3)                 \n",
        "train_HL = loadImages(train_path4)             "
      ]
    },
    {
      "cell_type": "code",
      "execution_count": null,
      "metadata": {
        "colab": {
          "base_uri": "https://localhost:8080/"
        },
        "id": "xO8EAWWKNQfh",
        "outputId": "bb44011a-9e35-4c4c-8d61-39fad609a564"
      },
      "outputs": [
        {
          "output_type": "stream",
          "name": "stdout",
          "text": [
            "Entire data size: (1829, 2)\n"
          ]
        }
      ],
      "source": [
        "df_train_ND = pd.DataFrame({'image':train_BL, 'label': 'BL'})           \n",
        "df_train_VMD = pd.DataFrame({'image':train_CR, 'label': 'CR'})      \n",
        "df_train_MID = pd.DataFrame({'image':train_GLS, 'label': 'GLS'})  \n",
        "df_train_MOD = pd.DataFrame({'image':train_HL, 'label': 'HL'})  \n",
        "\n",
        "final_data = [df_train_ND, df_train_VMD, df_train_MID, df_train_MOD] \n",
        "final_data = pd.concat(final_data)\n",
        "\n",
        "print(\"Entire data size:\",final_data.shape)"
      ]
    },
    {
      "cell_type": "code",
      "execution_count": null,
      "metadata": {
        "colab": {
          "base_uri": "https://localhost:8080/"
        },
        "id": "6LR6Uw30IJD5",
        "outputId": "ef521032-adf8-48f6-821b-df701412a9d9"
      },
      "outputs": [
        {
          "output_type": "stream",
          "name": "stdout",
          "text": [
            "Labels Count: Counter({'3': 209, '7': 208, '10': 208, '8': 205, '9': 205, '4': 204, '2': 203, '6': 201, '5': 186})\n",
            "1829\n",
            "1280\n"
          ]
        }
      ],
      "source": [
        "#%% TRAIN LABEL SEPARATION\n",
        "\n",
        "train_data = final_data['image']\n",
        "labels = final_data['label']\n",
        "\n",
        "print(\"Labels Count:\",Counter(np.array(labels)))\n",
        "\n",
        "onehot = LabelEncoder()\n",
        "labels = onehot.fit_transform(labels)\n",
        "print(labels.size)\n",
        "\n",
        "X_train, X_test, y_train, y_test = train_test_split(train_data, labels,\n",
        "                                                  test_size = 0.3,\n",
        "                                                  stratify = labels,\n",
        "                                                  )\n",
        "\n",
        "X_train = np.array(X_train)\n",
        "X_test = np.array(X_test)\n",
        "\n",
        "print(y_train.size)"
      ]
    },
    {
      "cell_type": "code",
      "execution_count": null,
      "metadata": {
        "colab": {
          "base_uri": "https://localhost:8080/"
        },
        "id": "P8fFaC0bGLtP",
        "outputId": "a32fb6f4-38db-486d-a709-3859edcb9c3a"
      },
      "outputs": [
        {
          "output_type": "stream",
          "name": "stdout",
          "text": [
            "(1829,)\n",
            "[0 1 2 3 4 5 6 7 8]\n"
          ]
        }
      ],
      "source": [
        "print(train_data.shape)\n",
        "print(np.unique(y_train))"
      ]
    },
    {
      "cell_type": "code",
      "execution_count": null,
      "metadata": {
        "colab": {
          "base_uri": "https://localhost:8080/"
        },
        "id": "2sBEdOGmN2cL",
        "outputId": "72a2902c-c128-4f7d-b934-829a8d85c08c"
      },
      "outputs": [
        {
          "output_type": "stream",
          "name": "stdout",
          "text": [
            "(1280, 224, 224, 3)\n",
            "(549, 224, 224, 3)\n"
          ]
        }
      ],
      "source": [
        "x_train = np.empty((len(X_train),X_train[0].shape[0],X_train[0].shape[1],X_train[0].shape[2]))\n",
        "for i,x in enumerate(X_train):\n",
        "    x_train[i]=X_train[i]\n",
        "print(x_train.shape)\n",
        "x_test= np.empty((len(X_test),X_test[0].shape[0],X_test[0].shape[1],X_test[0].shape[2]))\n",
        "for i,x in enumerate(X_test):\n",
        "    x_test[i]=X_test[i]\n",
        "print(x_test.shape)"
      ]
    },
    {
      "cell_type": "code",
      "execution_count": null,
      "metadata": {
        "colab": {
          "base_uri": "https://localhost:8080/"
        },
        "id": "6GRoAx1cpGui",
        "outputId": "f1aee0e3-a561-4efb-bda2-d78963d00a46"
      },
      "outputs": [
        {
          "output_type": "stream",
          "name": "stdout",
          "text": [
            "40/40 [==============================] - 810s 20s/step\n",
            "18/18 [==============================] - 349s 19s/step\n",
            "[[0.07329067 0.         0.         ... 0.         0.5413985  0.        ]\n",
            " [0.13126302 0.         0.         ... 0.         0.5954092  0.        ]\n",
            " [0.16999844 0.         0.         ... 0.         0.71328527 0.        ]\n",
            " ...\n",
            " [0.35736436 0.         0.         ... 0.         0.6402618  0.        ]\n",
            " [0.06424177 0.         0.         ... 0.         0.35160396 0.        ]\n",
            " [0.24905534 0.         0.         ... 0.         0.6955431  0.        ]]\n",
            "[[0.12966558 0.         0.         ... 0.         0.5389942  0.        ]\n",
            " [0.46841046 0.         0.         ... 0.         0.80501163 0.        ]\n",
            " [0.05661519 0.         0.         ... 0.         0.69082    0.        ]\n",
            " ...\n",
            " [0.20721866 0.         0.         ... 0.         0.6338099  0.        ]\n",
            " [0.27339017 0.         0.         ... 0.         0.5134727  0.        ]\n",
            " [0.11178973 0.         0.         ... 0.         0.6652419  0.        ]]\n"
          ]
        }
      ],
      "source": [
        "base_model = MobileNetV2(include_top=False, weights='imagenet', input_shape=(224,224,3))\n",
        "x = base_model.output\n",
        "x =  Dropout(0.5)(x)\n",
        "x = Flatten()(x)\n",
        "\n",
        "model_feat = Model(inputs=base_model.input,outputs=x)\n",
        "\n",
        "mobile_train_features = model_feat.predict(x_train)\n",
        "mobile_test_features=model_feat.predict(x_test)\n",
        "print(mobile_train_features)\n",
        "print(mobile_test_features)"
      ]
    },
    {
      "cell_type": "code",
      "execution_count": null,
      "metadata": {
        "colab": {
          "base_uri": "https://localhost:8080/"
        },
        "id": "lOwukHyNVcp4",
        "outputId": "ec1d09d0-65c3-419a-80ff-4b93deeb0053"
      },
      "outputs": [
        {
          "output_type": "stream",
          "name": "stdout",
          "text": [
            "40/40 [==============================] - 267s 7s/step\n",
            "18/18 [==============================] - 111s 6s/step\n",
            "[[0.        0.        0.        ... 4.4602184 0.        0.       ]\n",
            " [0.        0.        0.        ... 4.199543  0.        0.       ]\n",
            " [0.        0.        0.        ... 4.755846  0.        0.       ]\n",
            " ...\n",
            " [0.        0.        0.        ... 4.586478  0.        0.       ]\n",
            " [0.        0.        0.        ... 5.20969   0.        0.       ]\n",
            " [0.        0.        0.        ... 4.556794  0.        0.       ]]\n",
            "[[0.        0.        0.        ... 4.219782  0.        0.       ]\n",
            " [0.        0.        0.        ... 4.4952683 0.        0.       ]\n",
            " [0.        0.        0.        ... 4.3112087 0.        0.       ]\n",
            " ...\n",
            " [0.        0.        0.        ... 5.2517614 0.        0.       ]\n",
            " [0.        0.        0.        ... 4.4972963 0.        0.       ]\n",
            " [0.        0.        0.        ... 4.4127417 0.        0.       ]]\n"
          ]
        }
      ],
      "source": [
        "base_model = DenseNet121(include_top=False, weights='imagenet', input_shape=(224,224,3))\n",
        "y = base_model.output\n",
        "y =  Dropout(0.5)(y)\n",
        "y = Flatten()(y)\n",
        "\n",
        "model_feat = Model(inputs=base_model.input,outputs=y)\n",
        "\n",
        "dense_train_features = model_feat.predict(x_train)\n",
        "dense_test_features=model_feat.predict(x_test)\n",
        "print(dense_train_features)\n",
        "print(dense_test_features)"
      ]
    },
    {
      "cell_type": "code",
      "source": [
        "csv_mobile = pd.DataFrame(mobile_train_features)  \n",
        "csv_densenet = pd.DataFrame(dense_train_features)  \n",
        "print(np.unique(y_train))\n",
        "csv_label = pd.DataFrame(y_train) \n",
        "final_csv = [csv_mobile,csv_densenet,csv_label]  \n",
        "#final_csv = pd.concat(final_csv,axis=1) \n",
        "#final_csv.to_csv('train_features_2.csv')  \n",
        "new = pd.concat(final_csv, axis=1, join='inner')\n",
        "new.to_csv('train_features_2.csv') \n",
        "!cp train_features_2.csv \"drive/My Drive/\""
      ],
      "metadata": {
        "colab": {
          "base_uri": "https://localhost:8080/"
        },
        "id": "_OB1DRgDF95q",
        "outputId": "14760a3f-d5d8-4663-ffad-880047269901"
      },
      "execution_count": null,
      "outputs": [
        {
          "output_type": "stream",
          "name": "stdout",
          "text": [
            "[0 1 2 3 4 5 6 7 8]\n"
          ]
        }
      ]
    },
    {
      "cell_type": "code",
      "execution_count": null,
      "metadata": {
        "id": "cYxr8lu45_je"
      },
      "outputs": [],
      "source": [
        "train_features = np.append(mobile_train_features,dense_train_features,axis=1)\n",
        "test_features = np.append(mobile_test_features,dense_test_features,axis=1)"
      ]
    },
    {
      "cell_type": "code",
      "execution_count": null,
      "metadata": {
        "id": "Lvv5S-N5eNMO",
        "colab": {
          "base_uri": "https://localhost:8080/"
        },
        "outputId": "5e63626a-0133-4495-9bfd-577ac9583ac5"
      },
      "outputs": [
        {
          "output_type": "stream",
          "name": "stdout",
          "text": [
            "length X_train: 1024\n",
            "length y_train: 1024\n",
            "length X_val: 256\n",
            "length y_val: 256\n",
            "length X_test: 549\n",
            "length y_test: 549\n"
          ]
        }
      ],
      "source": [
        "x_train_acc, x_val_acc, y_train_acc, y_val_acc = train_test_split(train_features,y_train,\n",
        "                                                  test_size = 0.2,\n",
        "                                                  stratify = y_train,\n",
        "                                                  shuffle = True,\n",
        "                                                  random_state = 42)\n",
        "X_test,y_test=test_features,y_test\n",
        "\n",
        "print('length X_train:', len(x_train_acc))\n",
        "print('length y_train:', len(y_train_acc))\n",
        "\n",
        "print('length X_val:',  len(x_val_acc))\n",
        "print('length y_val:', len(y_val_acc))\n",
        "\n",
        "print('length X_test:',  len(X_test))\n",
        "print('length y_test:', len(y_test))"
      ]
    },
    {
      "cell_type": "code",
      "execution_count": null,
      "metadata": {
        "id": "iEWVUUS_eRml"
      },
      "outputs": [],
      "source": [
        "def classifier_summary(pipeline, X_train, y_train, X_val, y_val,X_test,y_test):\n",
        "\n",
        "    start = time()\n",
        "    sentiment_fit = pipeline.fit(X_train, y_train)\n",
        "    end = time()\n",
        "\n",
        "    y_pred_train= sentiment_fit.predict(X_train)\n",
        "    y_pred_val = sentiment_fit.predict(X_val)\n",
        "    y_pred_test = sentiment_fit.predict(X_test)\n",
        "    \n",
        "    train_accuracy = np.round(accuracy_score(y_train, y_pred_train),4)*100\n",
        "    train_precision = np.round(precision_score(y_train, y_pred_train, average='weighted'),4)\n",
        "    train_recall = np.round(recall_score(y_train, y_pred_train, average='weighted'),4)\n",
        "    train_F1 = np.round(f1_score(y_train, y_pred_train, average='weighted'),4)\n",
        "    train_kappa =  np.round(cohen_kappa_score(y_train, y_pred_train),4)\n",
        "    train_confusion_matrix = confusion_matrix(y_train,y_pred_train)\n",
        "    \n",
        "    val_accuracy = np.round(accuracy_score(y_val, y_pred_val),4)*100\n",
        "    val_precision = np.round(precision_score(y_val, y_pred_val, average='weighted'),4)\n",
        "    val_recall = np.round(recall_score(y_val, y_pred_val, average='weighted'),4)\n",
        "    val_F1 = np.round(f1_score(y_val, y_pred_val, average='weighted'),4)\n",
        "    val_kappa =  np.round(cohen_kappa_score(y_val, y_pred_val),4)\n",
        "    val_confusion_matrix = confusion_matrix(y_val,y_pred_val)\n",
        "    \n",
        "    test_accuracy = np.round(accuracy_score(y_test, y_pred_test),4)*100\n",
        "    test_precision = np.round(precision_score(y_test, y_pred_test, average='weighted'),4)\n",
        "    test_recall = np.round(recall_score(y_test, y_pred_test, average='weighted'),4)\n",
        "    test_F1 = np.round(f1_score(y_test, y_pred_test, average='weighted'),4)\n",
        "    test_kappa =  np.round(cohen_kappa_score(y_test, y_pred_test),4) \n",
        "    test_confusion_matrix = confusion_matrix(y_test,y_pred_test)\n",
        "    \n",
        "    \n",
        "    print()\n",
        "    print(\"Time taken : {}\".format(end-start))\n",
        "    print('------------------------ Train Set Metrics------------------------')\n",
        "    print()\n",
        "    print(\"accuracy : {}%\".format(train_accuracy))\n",
        "    print(\"F1_score : {}\".format(train_F1))\n",
        "    print(\"Cohen Kappa Score : {} \".format(train_kappa))\n",
        "    print(\"Recall : {}\".format(train_recall))\n",
        "    print(\"Precision : {}\".format(train_precision))\n",
        "    print(\"Confusion Matrix :\\n {}\".format(train_confusion_matrix))\n",
        "    \n",
        "    print()\n",
        "    print('------------------------ Validation Set Metrics------------------------')\n",
        "    print()\n",
        "    print(\"accuracy : {}%\".format(val_accuracy))\n",
        "    print(\"F1_score : {}\".format(val_F1))\n",
        "    print(\"Cohen Kappa Score : {} \".format(val_kappa))\n",
        "    print(\"Recall : {}\".format(val_recall))\n",
        "    print(\"Precision : {}\".format(val_precision))\n",
        "    print(\"Confusion Matrix :\\n {}\".format(val_confusion_matrix))\n",
        "    \n",
        "    print()\n",
        "    print('------------------------ Test Set Metrics------------------------')\n",
        "    print()\n",
        "    print(\"accuracy : {}%\".format(test_accuracy))\n",
        "    print(\"F1_score : {}\".format(test_F1))\n",
        "    print(\"Cohen Kappa Score : {} \".format(test_kappa))\n",
        "    print(\"Recall : {}\".format(test_recall))\n",
        "    print(\"Precision : {}\".format(test_precision))\n",
        "    print(\"Confusion Matrix : {}\".format(test_confusion_matrix))\n",
        "\n",
        "    print(\"-\"*80)\n",
        "    print()"
      ]
    },
    {
      "cell_type": "code",
      "execution_count": null,
      "metadata": {
        "id": "2ZZ4I-DueVRo"
      },
      "outputs": [],
      "source": [
        "names = [\n",
        "        'SVM',\n",
        "        \"Random Forest Classifier\",\n",
        "        \"AdaBoost Classifier\", \n",
        "        \"XGB Classifier\",\n",
        "         ]\n",
        "classifiers = [\n",
        "    SVC(),\n",
        "    RandomForestClassifier(),\n",
        "    AdaBoostClassifier(),\n",
        "        ]\n",
        "\n",
        "zipped_clf = zip(names,classifiers)"
      ]
    },
    {
      "cell_type": "code",
      "execution_count": null,
      "metadata": {
        "id": "GUlrJPkteZH9",
        "colab": {
          "base_uri": "https://localhost:8080/"
        },
        "outputId": "e5bb87a8-440a-4c8c-fcd7-6d043466616a"
      },
      "outputs": [
        {
          "output_type": "stream",
          "name": "stdout",
          "text": [
            "Fitting SVM on features \n"
          ]
        }
      ],
      "source": [
        "def classifier_comparator(X_train,y_train,X_val,y_val,X_test,y_test,classifier=zipped_clf): \n",
        "    result = []\n",
        "    for n,c in classifier:\n",
        "        checker_pipeline = Pipeline([\n",
        "            ('classifier', c)\n",
        "        ])\n",
        "        print(\"Fitting {} on features \".format(n))\n",
        "        #print(c)\n",
        "        classifier_summary(checker_pipeline,X_train, y_train, X_val, y_val,X_test,y_test)\n",
        "        \n",
        "classifier_comparator(x_train_acc,y_train_acc,x_val_acc,y_val_acc,X_test,y_test,classifier=zipped_clf)"
      ]
    }
  ],
  "metadata": {
    "colab": {
      "provenance": [],
      "include_colab_link": true
    },
    "kernelspec": {
      "display_name": "Python 3",
      "name": "python3"
    },
    "language_info": {
      "name": "python"
    }
  },
  "nbformat": 4,
  "nbformat_minor": 0
}